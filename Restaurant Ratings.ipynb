{
 "cells": [
  {
   "cell_type": "code",
   "execution_count": 12,
   "metadata": {},
   "outputs": [],
   "source": [
    "import pandas as pd\n",
    "import numpy as np\n",
    "import matplotlib.pyplot as plt \n",
    "from sklearn import linear_model \n",
    "from sklearn.model_selection import train_test_split\n",
    "from sklearn.linear_model import LinearRegression\n",
    "from sklearn.preprocessing import LabelEncoder\n",
    "from sklearn.metrics import mean_squared_error, r2_score"
   ]
  },
  {
   "cell_type": "markdown",
   "metadata": {},
   "source": [
    "## Reading the Data"
   ]
  },
  {
   "cell_type": "code",
   "execution_count": 13,
   "metadata": {},
   "outputs": [],
   "source": [
    "# read the data\n",
    "data = pd.read_csv(r'C:\\Users\\tirth\\Desktop\\Cognifyz\\Dataset .csv')\n"
   ]
  },
  {
   "cell_type": "markdown",
   "metadata": {},
   "source": [
    "## PreProcessing"
   ]
  },
  {
   "cell_type": "code",
   "execution_count": null,
   "metadata": {},
   "outputs": [
    {
     "data": {
      "text/plain": [
       "Country Code            0\n",
       "City                    0\n",
       "Address                 0\n",
       "Locality                0\n",
       "Locality Verbose        0\n",
       "Longitude               0\n",
       "Latitude                0\n",
       "Cuisines                9\n",
       "Average Cost for two    0\n",
       "Currency                0\n",
       "Has Table booking       0\n",
       "Has Online delivery     0\n",
       "Is delivering now       0\n",
       "Switch to order menu    0\n",
       "Price range             0\n",
       "Aggregate rating        0\n",
       "Rating color            0\n",
       "Rating text             0\n",
       "Votes                   0\n",
       "dtype: int64"
      ]
     },
     "execution_count": 14,
     "metadata": {},
     "output_type": "execute_result"
    }
   ],
   "source": [
    "data.drop_duplicates(inplace=True) # drop duplicates\n",
    "data.drop(['Restaurant ID', 'Restaurant Name'], axis=1, inplace=True) # drop unnecessary columns\n",
    "data.isna().sum() # check for missing values\n",
    "\n",
    "\n",
    "# output has 0 missing values"
   ]
  },
  {
   "cell_type": "markdown",
   "metadata": {},
   "source": [
    "## Encoding "
   ]
  },
  {
   "cell_type": "code",
   "execution_count": 15,
   "metadata": {},
   "outputs": [],
   "source": [
    "# label encoding\n",
    "# le = LabelEncoder()\n",
    "# data['Cuisines'] = le.fit_transform(data['Cuisines'])\n",
    "# data['City'] = le.fit_transform(data['City'])\n",
    "# data['Locality'] = le.fit_transform(data['Locality'])\n",
    "# data['Rating text'] = le.fit_transform(data['Rating text'])\n",
    "# data['Rating color'] = le.fit_transform(data['Rating color'])\n",
    "# data['Rating text'] = le.fit_transform(data['Rating text'])\n",
    "# data['Rating color'] = le.fit_transform(data['Rating color'])\n",
    "\n",
    "\n",
    "# instrad of this we will use \n",
    "\n",
    "for column in data.columns:\n",
    "    if data[column].dtype == 'object':\n",
    "        le = LabelEncoder()\n",
    "        data[column] = le.fit_transform(data[column])"
   ]
  },
  {
   "cell_type": "markdown",
   "metadata": {},
   "source": [
    "## Spliting the Data {Dependent and Independent Variables} and {Training and Testing Set}"
   ]
  },
  {
   "cell_type": "code",
   "execution_count": 16,
   "metadata": {},
   "outputs": [],
   "source": [
    "# spliting the data into Dependent and Independent variables\n",
    "X = data.drop('Aggregate rating', axis=1) # independent variables\n",
    "y = data['Aggregate rating'] # dependent variable\n",
    "\n",
    "# split the data into training and testing data\n",
    "X_Train, X_Test, Y_Train, Y_Test = train_test_split(X, y, test_size=0.2, random_state=42)\n",
    "     "
   ]
  },
  {
   "cell_type": "markdown",
   "metadata": {},
   "source": [
    "## Regression "
   ]
  },
  {
   "cell_type": "code",
   "execution_count": 17,
   "metadata": {},
   "outputs": [
    {
     "name": "stdout",
     "output_type": "stream",
     "text": [
      "[1.32465048 2.8694637  2.92114338 ... 2.92646592 3.07125893 4.32023856]\n"
     ]
    }
   ],
   "source": [
    "# Linear Regression\n",
    "\n",
    "model = LinearRegression() # create the model\n",
    "model.fit(X_Train, Y_Train) # train the model\n",
    "model.score(X_Test, Y_Test) # test the model\n",
    "\n",
    "\n",
    "# Predicting the test set results\n",
    "Y_Pred = model.predict(X_Test) # predicting the test set results\n",
    "print(Y_Pred)\n",
    "\n"
   ]
  },
  {
   "cell_type": "markdown",
   "metadata": {},
   "source": [
    "## Mean Square Error and R2 Score"
   ]
  },
  {
   "cell_type": "code",
   "execution_count": 18,
   "metadata": {},
   "outputs": [
    {
     "name": "stdout",
     "output_type": "stream",
     "text": [
      "Mean Squared Error: 1.2639737883312223\n",
      "R2 Score: 0.4446778279455945\n"
     ]
    }
   ],
   "source": [
    "# Evaluating the model using Mean Squared Error and R2 Score\n",
    "mse = mean_squared_error(Y_Test, Y_Pred)\n",
    "\n",
    "\n",
    "r2 = r2_score(Y_Test, Y_Pred)\n",
    "\n",
    "print('Mean Squared Error:', mse)\n",
    "\n",
    "print('R2 Score:', r2)\n",
    "\n"
   ]
  },
  {
   "cell_type": "code",
   "execution_count": 27,
   "metadata": {},
   "outputs": [
    {
     "name": "stdout",
     "output_type": "stream",
     "text": [
      "THE MOST INFLUENTIAL FEATURES AFFECTING THE RESTAURANT RATINGS ARE \n",
      "\n",
      "                        Coefficient\n",
      "Has Online delivery   6.760863e-01\n",
      "Price range           5.470995e-01\n",
      "Country Code          6.066455e-03\n",
      "Longitude             1.952457e-03\n",
      "Votes                 6.108043e-04\n",
      "Latitude              2.218650e-04\n",
      "Average Cost for two  1.104845e-06\n",
      "Switch to order menu  9.714451e-17\n",
      "Address              -3.584037e-05\n",
      "Locality             -1.318099e-04\n",
      "Cuisines             -1.911614e-04\n",
      "Locality Verbose     -1.929116e-04\n",
      "Has Table booking    -2.001581e-03\n",
      "City                 -3.353364e-03\n",
      "Currency             -5.636159e-02\n",
      "Rating color         -2.078378e-01\n",
      "Is delivering now    -2.098117e-01\n",
      "Rating text          -2.471786e-01\n"
     ]
    }
   ],
   "source": [
    "# Interpret the model's results and analyze the most influential features affecting restaurant ratings. +in descending order\n",
    "\n",
    "coefficients = pd.DataFrame(model.coef_, X.columns)\n",
    "coefficients.columns = ['Coefficient']\n",
    "coefficients.sort_values(by='Coefficient', ascending=False, inplace=True)\n",
    "print(\"THE MOST INFLUENTIAL FEATURES AFFECTING THE RESTAURANT RATINGS ARE \\n\\n\",coefficients)\n"
   ]
  }
 ],
 "metadata": {
  "kernelspec": {
   "display_name": ".venv",
   "language": "python",
   "name": "python3"
  },
  "language_info": {
   "codemirror_mode": {
    "name": "ipython",
    "version": 3
   },
   "file_extension": ".py",
   "mimetype": "text/x-python",
   "name": "python",
   "nbconvert_exporter": "python",
   "pygments_lexer": "ipython3",
   "version": "3.11.9"
  }
 },
 "nbformat": 4,
 "nbformat_minor": 2
}
